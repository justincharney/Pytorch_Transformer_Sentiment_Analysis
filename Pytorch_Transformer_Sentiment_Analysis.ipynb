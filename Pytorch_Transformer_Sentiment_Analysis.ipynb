{
  "nbformat": 4,
  "nbformat_minor": 0,
  "metadata": {
    "colab": {
      "name": "Pytorch_Transformer_Sentiment Analysis.ipynb",
      "provenance": [],
      "collapsed_sections": []
    },
    "kernelspec": {
      "name": "python3",
      "display_name": "Python 3"
    },
    "accelerator": "GPU",
    "widgets": {
      "application/vnd.jupyter.widget-state+json": {
        "35526ae095aa40ae9aa8cdb5c4aa5d50": {
          "model_module": "@jupyter-widgets/controls",
          "model_name": "HBoxModel",
          "state": {
            "_view_name": "HBoxView",
            "_dom_classes": [],
            "_model_name": "HBoxModel",
            "_view_module": "@jupyter-widgets/controls",
            "_model_module_version": "1.5.0",
            "_view_count": null,
            "_view_module_version": "1.5.0",
            "box_style": "",
            "layout": "IPY_MODEL_0d958b8e019342de947639962289ef69",
            "_model_module": "@jupyter-widgets/controls",
            "children": [
              "IPY_MODEL_131c3ca921cc4d75950efd9b934fcfe2",
              "IPY_MODEL_1e7c06d3ebf046589c05337f1cb94b5d"
            ]
          }
        },
        "0d958b8e019342de947639962289ef69": {
          "model_module": "@jupyter-widgets/base",
          "model_name": "LayoutModel",
          "state": {
            "_view_name": "LayoutView",
            "grid_template_rows": null,
            "right": null,
            "justify_content": null,
            "_view_module": "@jupyter-widgets/base",
            "overflow": null,
            "_model_module_version": "1.2.0",
            "_view_count": null,
            "flex_flow": null,
            "width": null,
            "min_width": null,
            "border": null,
            "align_items": null,
            "bottom": null,
            "_model_module": "@jupyter-widgets/base",
            "top": null,
            "grid_column": null,
            "overflow_y": null,
            "overflow_x": null,
            "grid_auto_flow": null,
            "grid_area": null,
            "grid_template_columns": null,
            "flex": null,
            "_model_name": "LayoutModel",
            "justify_items": null,
            "grid_row": null,
            "max_height": null,
            "align_content": null,
            "visibility": null,
            "align_self": null,
            "height": null,
            "min_height": null,
            "padding": null,
            "grid_auto_rows": null,
            "grid_gap": null,
            "max_width": null,
            "order": null,
            "_view_module_version": "1.2.0",
            "grid_template_areas": null,
            "object_position": null,
            "object_fit": null,
            "grid_auto_columns": null,
            "margin": null,
            "display": null,
            "left": null
          }
        },
        "131c3ca921cc4d75950efd9b934fcfe2": {
          "model_module": "@jupyter-widgets/controls",
          "model_name": "FloatProgressModel",
          "state": {
            "_view_name": "ProgressView",
            "style": "IPY_MODEL_60da3d0f57504f73895a93fb2d450881",
            "_dom_classes": [],
            "description": "Downloading: 100%",
            "_model_name": "FloatProgressModel",
            "bar_style": "success",
            "max": 231508,
            "_view_module": "@jupyter-widgets/controls",
            "_model_module_version": "1.5.0",
            "value": 231508,
            "_view_count": null,
            "_view_module_version": "1.5.0",
            "orientation": "horizontal",
            "min": 0,
            "description_tooltip": null,
            "_model_module": "@jupyter-widgets/controls",
            "layout": "IPY_MODEL_1f9ac0525c42477e805c896ef65bb598"
          }
        },
        "1e7c06d3ebf046589c05337f1cb94b5d": {
          "model_module": "@jupyter-widgets/controls",
          "model_name": "HTMLModel",
          "state": {
            "_view_name": "HTMLView",
            "style": "IPY_MODEL_22a67015591c402cabd2bd9805e19879",
            "_dom_classes": [],
            "description": "",
            "_model_name": "HTMLModel",
            "placeholder": "​",
            "_view_module": "@jupyter-widgets/controls",
            "_model_module_version": "1.5.0",
            "value": " 232k/232k [00:14&lt;00:00, 15.4kB/s]",
            "_view_count": null,
            "_view_module_version": "1.5.0",
            "description_tooltip": null,
            "_model_module": "@jupyter-widgets/controls",
            "layout": "IPY_MODEL_f1c86c4543e24d599bd040f207ef05e9"
          }
        },
        "60da3d0f57504f73895a93fb2d450881": {
          "model_module": "@jupyter-widgets/controls",
          "model_name": "ProgressStyleModel",
          "state": {
            "_view_name": "StyleView",
            "_model_name": "ProgressStyleModel",
            "description_width": "initial",
            "_view_module": "@jupyter-widgets/base",
            "_model_module_version": "1.5.0",
            "_view_count": null,
            "_view_module_version": "1.2.0",
            "bar_color": null,
            "_model_module": "@jupyter-widgets/controls"
          }
        },
        "1f9ac0525c42477e805c896ef65bb598": {
          "model_module": "@jupyter-widgets/base",
          "model_name": "LayoutModel",
          "state": {
            "_view_name": "LayoutView",
            "grid_template_rows": null,
            "right": null,
            "justify_content": null,
            "_view_module": "@jupyter-widgets/base",
            "overflow": null,
            "_model_module_version": "1.2.0",
            "_view_count": null,
            "flex_flow": null,
            "width": null,
            "min_width": null,
            "border": null,
            "align_items": null,
            "bottom": null,
            "_model_module": "@jupyter-widgets/base",
            "top": null,
            "grid_column": null,
            "overflow_y": null,
            "overflow_x": null,
            "grid_auto_flow": null,
            "grid_area": null,
            "grid_template_columns": null,
            "flex": null,
            "_model_name": "LayoutModel",
            "justify_items": null,
            "grid_row": null,
            "max_height": null,
            "align_content": null,
            "visibility": null,
            "align_self": null,
            "height": null,
            "min_height": null,
            "padding": null,
            "grid_auto_rows": null,
            "grid_gap": null,
            "max_width": null,
            "order": null,
            "_view_module_version": "1.2.0",
            "grid_template_areas": null,
            "object_position": null,
            "object_fit": null,
            "grid_auto_columns": null,
            "margin": null,
            "display": null,
            "left": null
          }
        },
        "22a67015591c402cabd2bd9805e19879": {
          "model_module": "@jupyter-widgets/controls",
          "model_name": "DescriptionStyleModel",
          "state": {
            "_view_name": "StyleView",
            "_model_name": "DescriptionStyleModel",
            "description_width": "",
            "_view_module": "@jupyter-widgets/base",
            "_model_module_version": "1.5.0",
            "_view_count": null,
            "_view_module_version": "1.2.0",
            "_model_module": "@jupyter-widgets/controls"
          }
        },
        "f1c86c4543e24d599bd040f207ef05e9": {
          "model_module": "@jupyter-widgets/base",
          "model_name": "LayoutModel",
          "state": {
            "_view_name": "LayoutView",
            "grid_template_rows": null,
            "right": null,
            "justify_content": null,
            "_view_module": "@jupyter-widgets/base",
            "overflow": null,
            "_model_module_version": "1.2.0",
            "_view_count": null,
            "flex_flow": null,
            "width": null,
            "min_width": null,
            "border": null,
            "align_items": null,
            "bottom": null,
            "_model_module": "@jupyter-widgets/base",
            "top": null,
            "grid_column": null,
            "overflow_y": null,
            "overflow_x": null,
            "grid_auto_flow": null,
            "grid_area": null,
            "grid_template_columns": null,
            "flex": null,
            "_model_name": "LayoutModel",
            "justify_items": null,
            "grid_row": null,
            "max_height": null,
            "align_content": null,
            "visibility": null,
            "align_self": null,
            "height": null,
            "min_height": null,
            "padding": null,
            "grid_auto_rows": null,
            "grid_gap": null,
            "max_width": null,
            "order": null,
            "_view_module_version": "1.2.0",
            "grid_template_areas": null,
            "object_position": null,
            "object_fit": null,
            "grid_auto_columns": null,
            "margin": null,
            "display": null,
            "left": null
          }
        },
        "ceda3b4b353b44fe84649b76d637af72": {
          "model_module": "@jupyter-widgets/controls",
          "model_name": "HBoxModel",
          "state": {
            "_view_name": "HBoxView",
            "_dom_classes": [],
            "_model_name": "HBoxModel",
            "_view_module": "@jupyter-widgets/controls",
            "_model_module_version": "1.5.0",
            "_view_count": null,
            "_view_module_version": "1.5.0",
            "box_style": "",
            "layout": "IPY_MODEL_d53beed1cff14adba4bdb08f9f5145bf",
            "_model_module": "@jupyter-widgets/controls",
            "children": [
              "IPY_MODEL_76b05ef4f0a54d07af39f11b8e760ce1",
              "IPY_MODEL_eb8b1df356b243579590c6b6c527a044"
            ]
          }
        },
        "d53beed1cff14adba4bdb08f9f5145bf": {
          "model_module": "@jupyter-widgets/base",
          "model_name": "LayoutModel",
          "state": {
            "_view_name": "LayoutView",
            "grid_template_rows": null,
            "right": null,
            "justify_content": null,
            "_view_module": "@jupyter-widgets/base",
            "overflow": null,
            "_model_module_version": "1.2.0",
            "_view_count": null,
            "flex_flow": null,
            "width": null,
            "min_width": null,
            "border": null,
            "align_items": null,
            "bottom": null,
            "_model_module": "@jupyter-widgets/base",
            "top": null,
            "grid_column": null,
            "overflow_y": null,
            "overflow_x": null,
            "grid_auto_flow": null,
            "grid_area": null,
            "grid_template_columns": null,
            "flex": null,
            "_model_name": "LayoutModel",
            "justify_items": null,
            "grid_row": null,
            "max_height": null,
            "align_content": null,
            "visibility": null,
            "align_self": null,
            "height": null,
            "min_height": null,
            "padding": null,
            "grid_auto_rows": null,
            "grid_gap": null,
            "max_width": null,
            "order": null,
            "_view_module_version": "1.2.0",
            "grid_template_areas": null,
            "object_position": null,
            "object_fit": null,
            "grid_auto_columns": null,
            "margin": null,
            "display": null,
            "left": null
          }
        },
        "76b05ef4f0a54d07af39f11b8e760ce1": {
          "model_module": "@jupyter-widgets/controls",
          "model_name": "FloatProgressModel",
          "state": {
            "_view_name": "ProgressView",
            "style": "IPY_MODEL_69df139ca6c64c80b89852f049b3e7b2",
            "_dom_classes": [],
            "description": "Downloading: 100%",
            "_model_name": "FloatProgressModel",
            "bar_style": "success",
            "max": 433,
            "_view_module": "@jupyter-widgets/controls",
            "_model_module_version": "1.5.0",
            "value": 433,
            "_view_count": null,
            "_view_module_version": "1.5.0",
            "orientation": "horizontal",
            "min": 0,
            "description_tooltip": null,
            "_model_module": "@jupyter-widgets/controls",
            "layout": "IPY_MODEL_71f6700189a449ddb345d878b18e848f"
          }
        },
        "eb8b1df356b243579590c6b6c527a044": {
          "model_module": "@jupyter-widgets/controls",
          "model_name": "HTMLModel",
          "state": {
            "_view_name": "HTMLView",
            "style": "IPY_MODEL_d696b6e40911455287de7e43477855c9",
            "_dom_classes": [],
            "description": "",
            "_model_name": "HTMLModel",
            "placeholder": "​",
            "_view_module": "@jupyter-widgets/controls",
            "_model_module_version": "1.5.0",
            "value": " 433/433 [00:00&lt;00:00, 6.87kB/s]",
            "_view_count": null,
            "_view_module_version": "1.5.0",
            "description_tooltip": null,
            "_model_module": "@jupyter-widgets/controls",
            "layout": "IPY_MODEL_f5cd0fe66f814b8d86ed1a7760416cd5"
          }
        },
        "69df139ca6c64c80b89852f049b3e7b2": {
          "model_module": "@jupyter-widgets/controls",
          "model_name": "ProgressStyleModel",
          "state": {
            "_view_name": "StyleView",
            "_model_name": "ProgressStyleModel",
            "description_width": "initial",
            "_view_module": "@jupyter-widgets/base",
            "_model_module_version": "1.5.0",
            "_view_count": null,
            "_view_module_version": "1.2.0",
            "bar_color": null,
            "_model_module": "@jupyter-widgets/controls"
          }
        },
        "71f6700189a449ddb345d878b18e848f": {
          "model_module": "@jupyter-widgets/base",
          "model_name": "LayoutModel",
          "state": {
            "_view_name": "LayoutView",
            "grid_template_rows": null,
            "right": null,
            "justify_content": null,
            "_view_module": "@jupyter-widgets/base",
            "overflow": null,
            "_model_module_version": "1.2.0",
            "_view_count": null,
            "flex_flow": null,
            "width": null,
            "min_width": null,
            "border": null,
            "align_items": null,
            "bottom": null,
            "_model_module": "@jupyter-widgets/base",
            "top": null,
            "grid_column": null,
            "overflow_y": null,
            "overflow_x": null,
            "grid_auto_flow": null,
            "grid_area": null,
            "grid_template_columns": null,
            "flex": null,
            "_model_name": "LayoutModel",
            "justify_items": null,
            "grid_row": null,
            "max_height": null,
            "align_content": null,
            "visibility": null,
            "align_self": null,
            "height": null,
            "min_height": null,
            "padding": null,
            "grid_auto_rows": null,
            "grid_gap": null,
            "max_width": null,
            "order": null,
            "_view_module_version": "1.2.0",
            "grid_template_areas": null,
            "object_position": null,
            "object_fit": null,
            "grid_auto_columns": null,
            "margin": null,
            "display": null,
            "left": null
          }
        },
        "d696b6e40911455287de7e43477855c9": {
          "model_module": "@jupyter-widgets/controls",
          "model_name": "DescriptionStyleModel",
          "state": {
            "_view_name": "StyleView",
            "_model_name": "DescriptionStyleModel",
            "description_width": "",
            "_view_module": "@jupyter-widgets/base",
            "_model_module_version": "1.5.0",
            "_view_count": null,
            "_view_module_version": "1.2.0",
            "_model_module": "@jupyter-widgets/controls"
          }
        },
        "f5cd0fe66f814b8d86ed1a7760416cd5": {
          "model_module": "@jupyter-widgets/base",
          "model_name": "LayoutModel",
          "state": {
            "_view_name": "LayoutView",
            "grid_template_rows": null,
            "right": null,
            "justify_content": null,
            "_view_module": "@jupyter-widgets/base",
            "overflow": null,
            "_model_module_version": "1.2.0",
            "_view_count": null,
            "flex_flow": null,
            "width": null,
            "min_width": null,
            "border": null,
            "align_items": null,
            "bottom": null,
            "_model_module": "@jupyter-widgets/base",
            "top": null,
            "grid_column": null,
            "overflow_y": null,
            "overflow_x": null,
            "grid_auto_flow": null,
            "grid_area": null,
            "grid_template_columns": null,
            "flex": null,
            "_model_name": "LayoutModel",
            "justify_items": null,
            "grid_row": null,
            "max_height": null,
            "align_content": null,
            "visibility": null,
            "align_self": null,
            "height": null,
            "min_height": null,
            "padding": null,
            "grid_auto_rows": null,
            "grid_gap": null,
            "max_width": null,
            "order": null,
            "_view_module_version": "1.2.0",
            "grid_template_areas": null,
            "object_position": null,
            "object_fit": null,
            "grid_auto_columns": null,
            "margin": null,
            "display": null,
            "left": null
          }
        },
        "46eb6997b3a8414d93b87599a043cf5c": {
          "model_module": "@jupyter-widgets/controls",
          "model_name": "HBoxModel",
          "state": {
            "_view_name": "HBoxView",
            "_dom_classes": [],
            "_model_name": "HBoxModel",
            "_view_module": "@jupyter-widgets/controls",
            "_model_module_version": "1.5.0",
            "_view_count": null,
            "_view_module_version": "1.5.0",
            "box_style": "",
            "layout": "IPY_MODEL_d7c4047fb3644dc5a1c4b346d03700e0",
            "_model_module": "@jupyter-widgets/controls",
            "children": [
              "IPY_MODEL_2c72230e70464f6ca3ec5e7c1aa5f2f9",
              "IPY_MODEL_144288a0637f4adaafc8ab5cb138c598"
            ]
          }
        },
        "d7c4047fb3644dc5a1c4b346d03700e0": {
          "model_module": "@jupyter-widgets/base",
          "model_name": "LayoutModel",
          "state": {
            "_view_name": "LayoutView",
            "grid_template_rows": null,
            "right": null,
            "justify_content": null,
            "_view_module": "@jupyter-widgets/base",
            "overflow": null,
            "_model_module_version": "1.2.0",
            "_view_count": null,
            "flex_flow": null,
            "width": null,
            "min_width": null,
            "border": null,
            "align_items": null,
            "bottom": null,
            "_model_module": "@jupyter-widgets/base",
            "top": null,
            "grid_column": null,
            "overflow_y": null,
            "overflow_x": null,
            "grid_auto_flow": null,
            "grid_area": null,
            "grid_template_columns": null,
            "flex": null,
            "_model_name": "LayoutModel",
            "justify_items": null,
            "grid_row": null,
            "max_height": null,
            "align_content": null,
            "visibility": null,
            "align_self": null,
            "height": null,
            "min_height": null,
            "padding": null,
            "grid_auto_rows": null,
            "grid_gap": null,
            "max_width": null,
            "order": null,
            "_view_module_version": "1.2.0",
            "grid_template_areas": null,
            "object_position": null,
            "object_fit": null,
            "grid_auto_columns": null,
            "margin": null,
            "display": null,
            "left": null
          }
        },
        "2c72230e70464f6ca3ec5e7c1aa5f2f9": {
          "model_module": "@jupyter-widgets/controls",
          "model_name": "FloatProgressModel",
          "state": {
            "_view_name": "ProgressView",
            "style": "IPY_MODEL_374788486b3047d987610dfdbd25d27c",
            "_dom_classes": [],
            "description": "Downloading: 100%",
            "_model_name": "FloatProgressModel",
            "bar_style": "success",
            "max": 440473133,
            "_view_module": "@jupyter-widgets/controls",
            "_model_module_version": "1.5.0",
            "value": 440473133,
            "_view_count": null,
            "_view_module_version": "1.5.0",
            "orientation": "horizontal",
            "min": 0,
            "description_tooltip": null,
            "_model_module": "@jupyter-widgets/controls",
            "layout": "IPY_MODEL_37d29f74d332443daea31fa2ec6ef0f8"
          }
        },
        "144288a0637f4adaafc8ab5cb138c598": {
          "model_module": "@jupyter-widgets/controls",
          "model_name": "HTMLModel",
          "state": {
            "_view_name": "HTMLView",
            "style": "IPY_MODEL_909aa487a8da4094b4d9886152443dbe",
            "_dom_classes": [],
            "description": "",
            "_model_name": "HTMLModel",
            "placeholder": "​",
            "_view_module": "@jupyter-widgets/controls",
            "_model_module_version": "1.5.0",
            "value": " 440M/440M [00:06&lt;00:00, 71.7MB/s]",
            "_view_count": null,
            "_view_module_version": "1.5.0",
            "description_tooltip": null,
            "_model_module": "@jupyter-widgets/controls",
            "layout": "IPY_MODEL_159ee41ec8244c808d9c22a215540c60"
          }
        },
        "374788486b3047d987610dfdbd25d27c": {
          "model_module": "@jupyter-widgets/controls",
          "model_name": "ProgressStyleModel",
          "state": {
            "_view_name": "StyleView",
            "_model_name": "ProgressStyleModel",
            "description_width": "initial",
            "_view_module": "@jupyter-widgets/base",
            "_model_module_version": "1.5.0",
            "_view_count": null,
            "_view_module_version": "1.2.0",
            "bar_color": null,
            "_model_module": "@jupyter-widgets/controls"
          }
        },
        "37d29f74d332443daea31fa2ec6ef0f8": {
          "model_module": "@jupyter-widgets/base",
          "model_name": "LayoutModel",
          "state": {
            "_view_name": "LayoutView",
            "grid_template_rows": null,
            "right": null,
            "justify_content": null,
            "_view_module": "@jupyter-widgets/base",
            "overflow": null,
            "_model_module_version": "1.2.0",
            "_view_count": null,
            "flex_flow": null,
            "width": null,
            "min_width": null,
            "border": null,
            "align_items": null,
            "bottom": null,
            "_model_module": "@jupyter-widgets/base",
            "top": null,
            "grid_column": null,
            "overflow_y": null,
            "overflow_x": null,
            "grid_auto_flow": null,
            "grid_area": null,
            "grid_template_columns": null,
            "flex": null,
            "_model_name": "LayoutModel",
            "justify_items": null,
            "grid_row": null,
            "max_height": null,
            "align_content": null,
            "visibility": null,
            "align_self": null,
            "height": null,
            "min_height": null,
            "padding": null,
            "grid_auto_rows": null,
            "grid_gap": null,
            "max_width": null,
            "order": null,
            "_view_module_version": "1.2.0",
            "grid_template_areas": null,
            "object_position": null,
            "object_fit": null,
            "grid_auto_columns": null,
            "margin": null,
            "display": null,
            "left": null
          }
        },
        "909aa487a8da4094b4d9886152443dbe": {
          "model_module": "@jupyter-widgets/controls",
          "model_name": "DescriptionStyleModel",
          "state": {
            "_view_name": "StyleView",
            "_model_name": "DescriptionStyleModel",
            "description_width": "",
            "_view_module": "@jupyter-widgets/base",
            "_model_module_version": "1.5.0",
            "_view_count": null,
            "_view_module_version": "1.2.0",
            "_model_module": "@jupyter-widgets/controls"
          }
        },
        "159ee41ec8244c808d9c22a215540c60": {
          "model_module": "@jupyter-widgets/base",
          "model_name": "LayoutModel",
          "state": {
            "_view_name": "LayoutView",
            "grid_template_rows": null,
            "right": null,
            "justify_content": null,
            "_view_module": "@jupyter-widgets/base",
            "overflow": null,
            "_model_module_version": "1.2.0",
            "_view_count": null,
            "flex_flow": null,
            "width": null,
            "min_width": null,
            "border": null,
            "align_items": null,
            "bottom": null,
            "_model_module": "@jupyter-widgets/base",
            "top": null,
            "grid_column": null,
            "overflow_y": null,
            "overflow_x": null,
            "grid_auto_flow": null,
            "grid_area": null,
            "grid_template_columns": null,
            "flex": null,
            "_model_name": "LayoutModel",
            "justify_items": null,
            "grid_row": null,
            "max_height": null,
            "align_content": null,
            "visibility": null,
            "align_self": null,
            "height": null,
            "min_height": null,
            "padding": null,
            "grid_auto_rows": null,
            "grid_gap": null,
            "max_width": null,
            "order": null,
            "_view_module_version": "1.2.0",
            "grid_template_areas": null,
            "object_position": null,
            "object_fit": null,
            "grid_auto_columns": null,
            "margin": null,
            "display": null,
            "left": null
          }
        }
      }
    }
  },
  "cells": [
    {
      "cell_type": "code",
      "metadata": {
        "colab": {
          "base_uri": "https://localhost:8080/"
        },
        "id": "KO7jSKPCj8tX",
        "outputId": "092d7409-d5e6-4bc9-e801-1adbf39ccbbc"
      },
      "source": [
        "!pip install transformers\n"
      ],
      "execution_count": 3,
      "outputs": [
        {
          "output_type": "stream",
          "text": [
            "Collecting transformers\n",
            "\u001b[?25l  Downloading https://files.pythonhosted.org/packages/50/0c/7d5950fcd80b029be0a8891727ba21e0cd27692c407c51261c3c921f6da3/transformers-4.1.1-py3-none-any.whl (1.5MB)\n",
            "\u001b[K     |████████████████████████████████| 1.5MB 16.9MB/s \n",
            "\u001b[?25hCollecting sacremoses\n",
            "\u001b[?25l  Downloading https://files.pythonhosted.org/packages/7d/34/09d19aff26edcc8eb2a01bed8e98f13a1537005d31e95233fd48216eed10/sacremoses-0.0.43.tar.gz (883kB)\n",
            "\u001b[K     |████████████████████████████████| 890kB 46.3MB/s \n",
            "\u001b[?25hRequirement already satisfied: regex!=2019.12.17 in /usr/local/lib/python3.6/dist-packages (from transformers) (2019.12.20)\n",
            "Collecting tokenizers==0.9.4\n",
            "\u001b[?25l  Downloading https://files.pythonhosted.org/packages/0f/1c/e789a8b12e28be5bc1ce2156cf87cb522b379be9cadc7ad8091a4cc107c4/tokenizers-0.9.4-cp36-cp36m-manylinux2010_x86_64.whl (2.9MB)\n",
            "\u001b[K     |████████████████████████████████| 2.9MB 50.5MB/s \n",
            "\u001b[?25hRequirement already satisfied: dataclasses; python_version < \"3.7\" in /usr/local/lib/python3.6/dist-packages (from transformers) (0.8)\n",
            "Requirement already satisfied: packaging in /usr/local/lib/python3.6/dist-packages (from transformers) (20.8)\n",
            "Requirement already satisfied: requests in /usr/local/lib/python3.6/dist-packages (from transformers) (2.23.0)\n",
            "Requirement already satisfied: tqdm>=4.27 in /usr/local/lib/python3.6/dist-packages (from transformers) (4.41.1)\n",
            "Requirement already satisfied: numpy in /usr/local/lib/python3.6/dist-packages (from transformers) (1.19.4)\n",
            "Requirement already satisfied: filelock in /usr/local/lib/python3.6/dist-packages (from transformers) (3.0.12)\n",
            "Requirement already satisfied: six in /usr/local/lib/python3.6/dist-packages (from sacremoses->transformers) (1.15.0)\n",
            "Requirement already satisfied: click in /usr/local/lib/python3.6/dist-packages (from sacremoses->transformers) (7.1.2)\n",
            "Requirement already satisfied: joblib in /usr/local/lib/python3.6/dist-packages (from sacremoses->transformers) (1.0.0)\n",
            "Requirement already satisfied: pyparsing>=2.0.2 in /usr/local/lib/python3.6/dist-packages (from packaging->transformers) (2.4.7)\n",
            "Requirement already satisfied: urllib3!=1.25.0,!=1.25.1,<1.26,>=1.21.1 in /usr/local/lib/python3.6/dist-packages (from requests->transformers) (1.24.3)\n",
            "Requirement already satisfied: chardet<4,>=3.0.2 in /usr/local/lib/python3.6/dist-packages (from requests->transformers) (3.0.4)\n",
            "Requirement already satisfied: idna<3,>=2.5 in /usr/local/lib/python3.6/dist-packages (from requests->transformers) (2.10)\n",
            "Requirement already satisfied: certifi>=2017.4.17 in /usr/local/lib/python3.6/dist-packages (from requests->transformers) (2020.12.5)\n",
            "Building wheels for collected packages: sacremoses\n",
            "  Building wheel for sacremoses (setup.py) ... \u001b[?25l\u001b[?25hdone\n",
            "  Created wheel for sacremoses: filename=sacremoses-0.0.43-cp36-none-any.whl size=893261 sha256=a3f63c632c42b7831034a696d19580b879d63177dbe6173ba97db823034438a2\n",
            "  Stored in directory: /root/.cache/pip/wheels/29/3c/fd/7ce5c3f0666dab31a50123635e6fb5e19ceb42ce38d4e58f45\n",
            "Successfully built sacremoses\n",
            "Installing collected packages: sacremoses, tokenizers, transformers\n",
            "Successfully installed sacremoses-0.0.43 tokenizers-0.9.4 transformers-4.1.1\n"
          ],
          "name": "stdout"
        }
      ]
    },
    {
      "cell_type": "code",
      "metadata": {
        "id": "V6KjncJ9j27x"
      },
      "source": [
        "import torch\n",
        "\n",
        "import random\n",
        "import numpy as np\n",
        "\n",
        "SEED = 1234\n",
        "\n",
        "random.seed(SEED)\n",
        "np.random.seed(SEED)\n",
        "torch.manual_seed(SEED)\n",
        "torch.backends.cudnn.deterministic = True"
      ],
      "execution_count": 4,
      "outputs": []
    },
    {
      "cell_type": "code",
      "metadata": {
        "colab": {
          "base_uri": "https://localhost:8080/",
          "height": 66,
          "referenced_widgets": [
            "35526ae095aa40ae9aa8cdb5c4aa5d50",
            "0d958b8e019342de947639962289ef69",
            "131c3ca921cc4d75950efd9b934fcfe2",
            "1e7c06d3ebf046589c05337f1cb94b5d",
            "60da3d0f57504f73895a93fb2d450881",
            "1f9ac0525c42477e805c896ef65bb598",
            "22a67015591c402cabd2bd9805e19879",
            "f1c86c4543e24d599bd040f207ef05e9"
          ]
        },
        "id": "cqTmsa8ZkHJ6",
        "outputId": "afeaa2fd-7a40-4ee7-a02b-d1f4a127eebc"
      },
      "source": [
        "from transformers import BertTokenizer\n",
        "\n",
        "#loading tokenizer for bert model which ignores case\n",
        "#tokenizer allows for words in a string to be split and tokenized for the bert/\n",
        "#model to interperet \n",
        "\n",
        "tokenizer = BertTokenizer.from_pretrained('bert-base-uncased')"
      ],
      "execution_count": 5,
      "outputs": [
        {
          "output_type": "display_data",
          "data": {
            "application/vnd.jupyter.widget-view+json": {
              "model_id": "35526ae095aa40ae9aa8cdb5c4aa5d50",
              "version_minor": 0,
              "version_major": 2
            },
            "text/plain": [
              "HBox(children=(FloatProgress(value=0.0, description='Downloading', max=231508.0, style=ProgressStyle(descripti…"
            ]
          },
          "metadata": {
            "tags": []
          }
        },
        {
          "output_type": "stream",
          "text": [
            "\n"
          ],
          "name": "stdout"
        }
      ]
    },
    {
      "cell_type": "code",
      "metadata": {
        "id": "gCqDngTGkJKb"
      },
      "source": [
        "#defining the special tokens that need to be added to the input text\n",
        "\n",
        "init_token_idx = tokenizer.cls_token_id\n",
        "eos_token_idx = tokenizer.sep_token_id\n",
        "pad_token_idx = tokenizer.pad_token_id\n",
        "unk_token_idx = tokenizer.unk_token_id\n",
        "\n",
        "#BERT only works on samples that are less then or equal to the ones it was /\n",
        "#trained on (512 tokens)\n",
        "max_input_length = tokenizer.max_model_input_sizes['bert-base-uncased']"
      ],
      "execution_count": 6,
      "outputs": []
    },
    {
      "cell_type": "code",
      "metadata": {
        "id": "GeTkCFoRkSBy"
      },
      "source": [
        "#define function to pass text to so it can be tokenized\n",
        "def tokenize_and_cut(sentence):\n",
        "    tokens = tokenizer.tokenize(sentence) \n",
        "    tokens = tokens[:max_input_length-2] # it is 510 in this case becauxe the max length for the/\n",
        "  #model is 512 but we must add 2 tokens ([CLS] and [SEP])\n",
        "    return tokens"
      ],
      "execution_count": 7,
      "outputs": []
    },
    {
      "cell_type": "code",
      "metadata": {
        "id": "f-p7s8d_kUx9"
      },
      "source": [
        "from torchtext import data\n",
        "\n",
        "# loading our text and labels in the proper manner\n",
        "TEXT = data.Field(batch_first = True,\n",
        "                  use_vocab = False,\n",
        "                  tokenize = tokenize_and_cut,\n",
        "                  preprocessing = tokenizer.convert_tokens_to_ids,\n",
        "                  init_token = init_token_idx,\n",
        "                  eos_token = eos_token_idx,\n",
        "                  pad_token = pad_token_idx,\n",
        "                  unk_token = unk_token_idx)\n",
        "\n",
        "LABEL = data.LabelField(dtype = torch.float)"
      ],
      "execution_count": 8,
      "outputs": []
    },
    {
      "cell_type": "code",
      "metadata": {
        "colab": {
          "base_uri": "https://localhost:8080/"
        },
        "id": "CHcl6rI7khqE",
        "outputId": "cc2d9ec5-cc17-478d-dc63-7c27dcd236a9"
      },
      "source": [
        "from torchtext import datasets\n",
        "\n",
        "# getting our training, validation, and testing splits\n",
        "train_data, test_data = datasets.IMDB.splits(TEXT, LABEL)\n",
        "\n",
        "train_data, valid_data = train_data.split(random_state = random.seed(SEED))\n"
      ],
      "execution_count": 10,
      "outputs": [
        {
          "output_type": "stream",
          "text": [
            "\raclImdb_v1.tar.gz:   0%|          | 0.00/84.1M [00:00<?, ?B/s]"
          ],
          "name": "stderr"
        },
        {
          "output_type": "stream",
          "text": [
            "downloading aclImdb_v1.tar.gz\n"
          ],
          "name": "stdout"
        },
        {
          "output_type": "stream",
          "text": [
            "aclImdb_v1.tar.gz: 100%|██████████| 84.1M/84.1M [00:03<00:00, 22.7MB/s]\n"
          ],
          "name": "stderr"
        }
      ]
    },
    {
      "cell_type": "code",
      "metadata": {
        "colab": {
          "base_uri": "https://localhost:8080/"
        },
        "id": "oZNCorYckkJ0",
        "outputId": "59fbd01f-2ccf-44bc-cfe4-22de4548a256"
      },
      "source": [
        "#check the numbers of each\n",
        "print(f\"Number of training examples: {len(train_data)}\")\n",
        "print(f\"Number of validation examples: {len(valid_data)}\")\n",
        "print(f\"Number of testing examples: {len(test_data)}\")\n"
      ],
      "execution_count": 11,
      "outputs": [
        {
          "output_type": "stream",
          "text": [
            "Number of training examples: 17500\n",
            "Number of validation examples: 7500\n",
            "Number of testing examples: 25000\n"
          ],
          "name": "stdout"
        }
      ]
    },
    {
      "cell_type": "code",
      "metadata": {
        "colab": {
          "base_uri": "https://localhost:8080/"
        },
        "id": "XPR6AP6PkmGY",
        "outputId": "f7571746-d730-4810-ed0e-7108cdc0cd0f"
      },
      "source": [
        "#check an example from the training split\n",
        "print(vars(train_data.examples[6]))"
      ],
      "execution_count": 12,
      "outputs": [
        {
          "output_type": "stream",
          "text": [
            "{'text': [1011, 1027, 3397, 27594, 2121, 2013, 2119, 2434, 1998, 3185, 4617, 1027, 1011, 1026, 7987, 1013, 1028, 1026, 7987, 1013, 1028, 1045, 2572, 1037, 4121, 5470, 1997, 10289, 8214, 2139, 3000, 3315, 1010, 1045, 2036, 3191, 2338, 2023, 2621, 1998, 1045, 3427, 3185, 2651, 1010, 1999, 1996, 2927, 1045, 2001, 17772, 2000, 3422, 1037, 2204, 2143, 2926, 2043, 1045, 2387, 1020, 1012, 1017, 10047, 18939, 2391, 1012, 2034, 5019, 2020, 2204, 2021, 1045, 2941, 4741, 2005, 1010, 12370, 3496, 3495, 2013, 2338, 1010, 2021, 2009, 2001, 3671, 2021, 2043, 9686, 28990, 2850, 8537, 5861, 3995, 7442, 1045, 2371, 2242, 2003, 3308, 1012, 1012, 2027, 2123, 1005, 1056, 2130, 3610, 1999, 2338, 1010, 2130, 1999, 3315, 1012, 1012, 1026, 7987, 1013, 1028, 1026, 7987, 1013, 1028, 1998, 2045, 2020, 4121, 6578, 2339, 9686, 28990, 2850, 2108, 13224, 2011, 23324, 1010, 1999, 1996, 2338, 2016, 12011, 2014, 13555, 2129, 2000, 6869, 3616, 1997, 5119, 2030, 4339, 2773, 1000, 6887, 8913, 8286, 1000, 1012, 1012, 3524, 2045, 2020, 1037, 6887, 8913, 8286, 4694, 1005, 1056, 2045, 1029, 1999, 2023, 3185, 2002, 2003, 2070, 5268, 18015, 2498, 2062, 1010, 1996, 17277, 2081, 17982, 5302, 3527, 1005, 1055, 2293, 2000, 2265, 2105, 1998, 2027, 2130, 13261, 10424, 14511, 2080, 1005, 1055, 2293, 1012, 1012, 2021, 10289, 8214, 2001, 10424, 14511, 2080, 1012, 2010, 4301, 2010, 11785, 2090, 2293, 1997, 2643, 1998, 2293, 1997, 2529, 1999, 3185, 2057, 2064, 2102, 2424, 2505, 2066, 2008, 2035, 2057, 2031, 2003, 1010, 2070, 12700, 2040, 2003, 2428, 2919, 1998, 8563, 2111, 3005, 17783, 2007, 2010, 4301, 1012, 1012, 1998, 2025, 18625, 6887, 8913, 8286, 1010, 2025, 18625, 2293, 1997, 10424, 14511, 2080, 1010, 2025, 18625, 15333, 4819, 1006, 2567, 1997, 10424, 14511, 2080, 1007, 2025, 18625, 2388, 1997, 9686, 28990, 2850, 1006, 2672, 2009, 2003, 7929, 1010, 1996, 9994, 2052, 2031, 24881, 2172, 1007, 2027, 2130, 2025, 3855, 1996, 2613, 2466, 1012, 1012, 1006, 2178, 8827, 1024, 10424, 14511, 2080, 2347, 1005, 1056, 1037, 16895, 14866, 2030, 2070, 8754, 2266, 2002, 2941, 1999, 3037, 2007, 2632, 5403, 8029, 2002, 5363, 2000, 2191, 2751, 1012, 1012, 2002, 2001, 5881, 1999, 2671, 1998, 4676, 1007, 1026, 7987, 1013, 1028, 1026, 7987, 1013, 1028, 2633, 2123, 1005, 1056, 3422, 2023, 3185, 1010, 2009, 2003, 2070, 2785, 1997, 5501, 3179, 2000, 2613, 17743, 1010, 1998, 2065, 2017, 2031, 3427, 2009, 2077, 3191, 1996, 2338, 1010, 2643, 2031, 8673, 2006, 2017, 1012, 1012, 2017, 2442, 3191, 2000, 2338, 3202, 1012, 1012, 1026, 7987, 1013, 1028, 1026, 7987, 1013, 1028, 2023, 3185, 2003, 4788, 2084, 15876, 12680, 5963, 1997, 10289, 8214, 2462, 1996, 6579, 3185, 1010, 5247, 2115, 2051, 2007, 3666, 10289, 8214, 2139, 3000, 3315, 1012, 1012, 2438, 2056, 1012, 1012], 'label': 'neg'}\n"
          ],
          "name": "stdout"
        }
      ]
    },
    {
      "cell_type": "code",
      "metadata": {
        "colab": {
          "base_uri": "https://localhost:8080/"
        },
        "id": "_wQjWxCwkpsd",
        "outputId": "306521b6-7c5c-4b60-bd6e-e698a835c53a"
      },
      "source": [
        "# the text from that example\n",
        "tokens = tokenizer.convert_ids_to_tokens(vars(train_data.examples[6])['text'])\n",
        "\n",
        "print(tokens)"
      ],
      "execution_count": 13,
      "outputs": [
        {
          "output_type": "stream",
          "text": [
            "['-', '=', 'contains', 'spoil', '##er', 'from', 'both', 'original', 'and', 'movie', 'versions', '=', '-', '<', 'br', '/', '>', '<', 'br', '/', '>', 'i', 'am', 'a', 'huge', 'fan', 'of', 'notre', 'dame', 'de', 'paris', 'musical', ',', 'i', 'also', 'read', 'book', 'this', 'summer', 'and', 'i', 'watched', 'movie', 'today', ',', 'in', 'the', 'beginning', 'i', 'was', 'hopeful', 'to', 'watch', 'a', 'good', 'film', 'especially', 'when', 'i', 'saw', '6', '.', '3', 'im', '##db', 'point', '.', 'first', 'scenes', 'were', 'good', 'but', 'i', 'actually', 'waited', 'for', ',', 'theaters', 'scene', 'directly', 'from', 'book', ',', 'but', 'it', 'was', 'normal', 'but', 'when', 'es', '##meral', '##da', 'kisses', 'grin', '##go', '##ire', 'i', 'felt', 'something', 'is', 'wrong', '.', '.', 'they', 'don', \"'\", 't', 'even', 'kiss', 'in', 'book', ',', 'even', 'in', 'musical', '.', '.', '<', 'br', '/', '>', '<', 'br', '/', '>', 'and', 'there', 'were', 'huge', 'gap', 'why', 'es', '##meral', '##da', 'being', 'judged', 'by', 'sorcerer', ',', 'in', 'the', 'book', 'she', 'teaches', 'her', 'goat', 'how', 'to', 'respond', 'numbers', 'of', 'clock', 'or', 'write', 'word', '\"', 'ph', '##oe', '##bus', '\"', '.', '.', 'wait', 'there', 'were', 'a', 'ph', '##oe', '##bus', 'weren', \"'\", 't', 'there', '?', 'in', 'this', 'movie', 'he', 'is', 'some', 'soldier', 'junk', 'nothing', 'more', ',', 'the', 'creators', 'made', 'quasi', '##mo', '##do', \"'\", 's', 'love', 'to', 'show', 'around', 'and', 'they', 'even', 'canceled', 'fr', '##oll', '##o', \"'\", 's', 'love', '.', '.', 'but', 'notre', 'dame', 'was', 'fr', '##oll', '##o', '.', 'his', 'thoughts', 'his', 'struggles', 'between', 'love', 'of', 'god', 'and', 'love', 'of', 'human', 'in', 'movie', 'we', 'can', '##t', 'find', 'anything', 'like', 'that', 'all', 'we', 'have', 'is', ',', 'some', 'villain', 'who', 'is', 'really', 'bad', 'and', 'kills', 'people', 'whose', 'clashes', 'with', 'his', 'thoughts', '.', '.', 'and', 'not', 'mentioning', 'ph', '##oe', '##bus', ',', 'not', 'mentioning', 'love', 'of', 'fr', '##oll', '##o', ',', 'not', 'mentioning', 'je', '##han', '(', 'brother', 'of', 'fr', '##oll', '##o', ')', 'not', 'mentioning', 'mother', 'of', 'es', '##meral', '##da', '(', 'maybe', 'it', 'is', 'ok', ',', 'the', 'storyline', 'would', 'have', 'chopped', 'much', ')', 'they', 'even', 'not', 'mentioned', 'the', 'real', 'story', '.', '.', '(', 'another', 'ps', ':', 'fr', '##oll', '##o', 'wasn', \"'\", 't', 'a', 'opus', 'dei', 'or', 'some', 'cult', 'member', 'he', 'actually', 'in', 'interest', 'with', 'al', '##che', '##my', 'he', 'tries', 'to', 'make', 'gold', '.', '.', 'he', 'was', 'stuck', 'in', 'science', 'and', 'religion', ')', '<', 'br', '/', '>', '<', 'br', '/', '>', 'finally', 'don', \"'\", 't', 'watch', 'this', 'movie', ',', 'it', 'is', 'some', 'kind', 'of', 'directors', 'edition', 'to', 'real', 'masterpiece', ',', 'and', 'if', 'you', 'have', 'watched', 'it', 'before', 'read', 'the', 'book', ',', 'god', 'have', 'mercy', 'on', 'you', '.', '.', 'you', 'must', 'read', 'to', 'book', 'immediately', '.', '.', '<', 'br', '/', '>', '<', 'br', '/', '>', 'this', 'movie', 'is', 'worse', 'than', 'hu', '##nch', '##back', 'of', 'notre', 'dame', 'ii', 'the', 'animated', 'movie', ',', 'spend', 'your', 'time', 'with', 'watching', 'notre', 'dame', 'de', 'paris', 'musical', '.', '.', 'enough', 'said', '.', '.']\n"
          ],
          "name": "stdout"
        }
      ]
    },
    {
      "cell_type": "code",
      "metadata": {
        "id": "iRTOZWBMkr5x"
      },
      "source": [
        "#build vocab for the labels\n",
        "LABEL.build_vocab(train_data)"
      ],
      "execution_count": 14,
      "outputs": []
    },
    {
      "cell_type": "code",
      "metadata": {
        "colab": {
          "base_uri": "https://localhost:8080/"
        },
        "id": "nZ5BEME8ktNq",
        "outputId": "01b605c0-f13c-4388-9d7d-e9b2ea149767"
      },
      "source": [
        "# check the label voacb (0 = negative, 1 = positive)\n",
        "print(LABEL.vocab.stoi)"
      ],
      "execution_count": 15,
      "outputs": [
        {
          "output_type": "stream",
          "text": [
            "defaultdict(<function _default_unk_index at 0x7f44c878e730>, {'neg': 0, 'pos': 1})\n"
          ],
          "name": "stdout"
        }
      ]
    },
    {
      "cell_type": "code",
      "metadata": {
        "id": "WKyqgTFIkwDM"
      },
      "source": [
        "BATCH_SIZE = 128\n",
        "\n",
        "device = torch.device('cuda' if torch.cuda.is_available() else 'cpu')\n",
        "\n",
        "train_iterator, valid_iterator, test_iterator = data.BucketIterator.splits(\n",
        "    (train_data, valid_data, test_data), \n",
        "    batch_size = BATCH_SIZE, \n",
        "    device = device)"
      ],
      "execution_count": 16,
      "outputs": []
    },
    {
      "cell_type": "code",
      "metadata": {
        "colab": {
          "base_uri": "https://localhost:8080/",
          "height": 115,
          "referenced_widgets": [
            "ceda3b4b353b44fe84649b76d637af72",
            "d53beed1cff14adba4bdb08f9f5145bf",
            "76b05ef4f0a54d07af39f11b8e760ce1",
            "eb8b1df356b243579590c6b6c527a044",
            "69df139ca6c64c80b89852f049b3e7b2",
            "71f6700189a449ddb345d878b18e848f",
            "d696b6e40911455287de7e43477855c9",
            "f5cd0fe66f814b8d86ed1a7760416cd5",
            "46eb6997b3a8414d93b87599a043cf5c",
            "d7c4047fb3644dc5a1c4b346d03700e0",
            "2c72230e70464f6ca3ec5e7c1aa5f2f9",
            "144288a0637f4adaafc8ab5cb138c598",
            "374788486b3047d987610dfdbd25d27c",
            "37d29f74d332443daea31fa2ec6ef0f8",
            "909aa487a8da4094b4d9886152443dbe",
            "159ee41ec8244c808d9c22a215540c60"
          ]
        },
        "id": "94B4biojkxUC",
        "outputId": "a7768243-eae3-4108-b60e-41180f10f6e8"
      },
      "source": [
        "from transformers import BertTokenizer, BertModel\n",
        "\n",
        "#getting the pretrained model\n",
        "\n",
        "bert = BertModel.from_pretrained('bert-base-uncased')"
      ],
      "execution_count": 17,
      "outputs": [
        {
          "output_type": "display_data",
          "data": {
            "application/vnd.jupyter.widget-view+json": {
              "model_id": "ceda3b4b353b44fe84649b76d637af72",
              "version_minor": 0,
              "version_major": 2
            },
            "text/plain": [
              "HBox(children=(FloatProgress(value=0.0, description='Downloading', max=433.0, style=ProgressStyle(description_…"
            ]
          },
          "metadata": {
            "tags": []
          }
        },
        {
          "output_type": "stream",
          "text": [
            "\n"
          ],
          "name": "stdout"
        },
        {
          "output_type": "display_data",
          "data": {
            "application/vnd.jupyter.widget-view+json": {
              "model_id": "46eb6997b3a8414d93b87599a043cf5c",
              "version_minor": 0,
              "version_major": 2
            },
            "text/plain": [
              "HBox(children=(FloatProgress(value=0.0, description='Downloading', max=440473133.0, style=ProgressStyle(descri…"
            ]
          },
          "metadata": {
            "tags": []
          }
        },
        {
          "output_type": "stream",
          "text": [
            "\n"
          ],
          "name": "stdout"
        }
      ]
    },
    {
      "cell_type": "code",
      "metadata": {
        "id": "Y2pm9GEmkzt0"
      },
      "source": [
        "import torch.nn as nn\n",
        "\n",
        "class BERTGRUSentiment(nn.Module):\n",
        "    def __init__(self,\n",
        "                 bert,\n",
        "                 hidden_dim,\n",
        "                 output_dim,\n",
        "                 n_layers,\n",
        "                 bidirectional,\n",
        "                 dropout):\n",
        "        \n",
        "        super().__init__()\n",
        "        \n",
        "        self.bert = bert\n",
        "        \n",
        "        embedding_dim = bert.config.to_dict()['hidden_size']\n",
        "        \n",
        "        self.rnn = nn.GRU(embedding_dim,\n",
        "                          hidden_dim,\n",
        "                          num_layers = n_layers,\n",
        "                          bidirectional = bidirectional,\n",
        "                          batch_first = True,\n",
        "                          dropout = 0 if n_layers < 2 else dropout)\n",
        "        \n",
        "        self.out = nn.Linear(hidden_dim * 2 if bidirectional else hidden_dim, output_dim)\n",
        "        \n",
        "        self.dropout = nn.Dropout(dropout)\n",
        "        \n",
        "    def forward(self, text):\n",
        "        \n",
        "                \n",
        "        with torch.no_grad():\n",
        "            embedded = self.bert(text)[0]\n",
        "                \n",
        "        \n",
        "        _, hidden = self.rnn(embedded)\n",
        "        \n",
        "        \n",
        "        if self.rnn.bidirectional:\n",
        "            hidden = self.dropout(torch.cat((hidden[-2,:,:], hidden[-1,:,:]), dim = 1))\n",
        "        else:\n",
        "            hidden = self.dropout(hidden[-1,:,:])\n",
        "                \n",
        "        \n",
        "        output = self.out(hidden)\n",
        "        \n",
        "        \n",
        "        return output"
      ],
      "execution_count": 18,
      "outputs": []
    },
    {
      "cell_type": "code",
      "metadata": {
        "id": "8WzSe2f2k3wv"
      },
      "source": [
        "# create an instance of the model\n",
        "HIDDEN_DIM = 256\n",
        "OUTPUT_DIM = 1\n",
        "N_LAYERS = 2\n",
        "BIDIRECTIONAL = True\n",
        "DROPOUT = 0.25\n",
        "\n",
        "model = BERTGRUSentiment(bert,\n",
        "                         HIDDEN_DIM,\n",
        "                         OUTPUT_DIM,\n",
        "                         N_LAYERS,\n",
        "                         BIDIRECTIONAL,\n",
        "                         DROPOUT)"
      ],
      "execution_count": 19,
      "outputs": []
    },
    {
      "cell_type": "code",
      "metadata": {
        "id": "z8AKFmzLk5dz"
      },
      "source": [
        "# freeze parameters from BERT so we don't train them\n",
        "for name, param in model.named_parameters():                \n",
        "    if name.startswith('bert'):\n",
        "        param.requires_grad = False"
      ],
      "execution_count": 20,
      "outputs": []
    },
    {
      "cell_type": "code",
      "metadata": {
        "colab": {
          "base_uri": "https://localhost:8080/"
        },
        "id": "9-m_WXcpk-8N",
        "outputId": "02a1af84-641a-4d7f-d432-a41ed808f011"
      },
      "source": [
        "# show the parameters we are training\n",
        "for name, param in model.named_parameters():                \n",
        "    if param.requires_grad:\n",
        "        print(name)"
      ],
      "execution_count": 21,
      "outputs": [
        {
          "output_type": "stream",
          "text": [
            "rnn.weight_ih_l0\n",
            "rnn.weight_hh_l0\n",
            "rnn.bias_ih_l0\n",
            "rnn.bias_hh_l0\n",
            "rnn.weight_ih_l0_reverse\n",
            "rnn.weight_hh_l0_reverse\n",
            "rnn.bias_ih_l0_reverse\n",
            "rnn.bias_hh_l0_reverse\n",
            "rnn.weight_ih_l1\n",
            "rnn.weight_hh_l1\n",
            "rnn.bias_ih_l1\n",
            "rnn.bias_hh_l1\n",
            "rnn.weight_ih_l1_reverse\n",
            "rnn.weight_hh_l1_reverse\n",
            "rnn.bias_ih_l1_reverse\n",
            "rnn.bias_hh_l1_reverse\n",
            "out.weight\n",
            "out.bias\n"
          ],
          "name": "stdout"
        }
      ]
    },
    {
      "cell_type": "code",
      "metadata": {
        "id": "_dZ2SCerlBup"
      },
      "source": [
        "import torch.optim as optim\n",
        "\n",
        "optimizer = optim.Adam(model.parameters())"
      ],
      "execution_count": 22,
      "outputs": []
    },
    {
      "cell_type": "code",
      "metadata": {
        "id": "6CYsbN3JlEnx"
      },
      "source": [
        "criterion = nn.BCEWithLogitsLoss()"
      ],
      "execution_count": 23,
      "outputs": []
    },
    {
      "cell_type": "code",
      "metadata": {
        "id": "jjHJDJQrlII9"
      },
      "source": [
        "model = model.to(device)\n",
        "criterion = criterion.to(device)"
      ],
      "execution_count": 24,
      "outputs": []
    },
    {
      "cell_type": "code",
      "metadata": {
        "id": "zqEJIONNlKeG"
      },
      "source": [
        "def binary_accuracy(preds, y):\n",
        "    \"\"\"\n",
        "    Returns accuracy per batch, i.e. if you get 8/10 right, this returns 0.8, NOT 8\n",
        "    \"\"\"\n",
        "\n",
        "    #round predictions to the closest integer\n",
        "    rounded_preds = torch.round(torch.sigmoid(preds))\n",
        "    correct = (rounded_preds == y).float() #convert into float for division \n",
        "    acc = correct.sum() / len(correct)\n",
        "    return acc"
      ],
      "execution_count": 25,
      "outputs": []
    },
    {
      "cell_type": "code",
      "metadata": {
        "id": "BAuoQyLOlK7C"
      },
      "source": [
        "from tqdm import tqdm\n",
        "\n",
        "def train(model, iterator, optimizer, criterion):\n",
        "    \n",
        "    epoch_loss = 0\n",
        "    epoch_acc = 0\n",
        "    \n",
        "    model.train()\n",
        "    with tqdm(iterator, unit = \"batch\") as tepoch:\n",
        "      for batch in tepoch:\n",
        "        optimizer.zero_grad()\n",
        "        \n",
        "        predictions = model(batch.text).squeeze(1)\n",
        "        \n",
        "        loss = criterion(predictions, batch.label)\n",
        "        \n",
        "        acc = binary_accuracy(predictions, batch.label)\n",
        "        \n",
        "        loss.backward()\n",
        "        \n",
        "        optimizer.step()\n",
        "        \n",
        "        epoch_loss += loss.item()\n",
        "        epoch_acc += acc.item()\n",
        "        \n",
        "    return epoch_loss / len(iterator), epoch_acc / len(iterator)"
      ],
      "execution_count": 26,
      "outputs": []
    },
    {
      "cell_type": "code",
      "metadata": {
        "id": "tRdDXm75lO-1"
      },
      "source": [
        "def evaluate(model, iterator, criterion):\n",
        "    \n",
        "    epoch_loss = 0\n",
        "    epoch_acc = 0\n",
        "    \n",
        "    model.eval()\n",
        "    \n",
        "    with torch.no_grad():\n",
        "      with tqdm(iterator, unit= \"batch\") as tepoch:\n",
        "        \n",
        "        for batch in tepoch:\n",
        "\n",
        "            predictions = model(batch.text).squeeze(1)\n",
        "            \n",
        "            loss = criterion(predictions, batch.label)\n",
        "            \n",
        "            acc = binary_accuracy(predictions, batch.label)\n",
        "\n",
        "            epoch_loss += loss.item()\n",
        "            epoch_acc += acc.item()\n",
        "        \n",
        "    return epoch_loss / len(iterator), epoch_acc / len(iterator)"
      ],
      "execution_count": 27,
      "outputs": []
    },
    {
      "cell_type": "code",
      "metadata": {
        "id": "lo2Ajdt5lPzv"
      },
      "source": [
        "import time\n",
        "\n",
        "def epoch_time(start_time, end_time):\n",
        "    elapsed_time = end_time - start_time\n",
        "    elapsed_mins = int(elapsed_time / 60)\n",
        "    elapsed_secs = int(elapsed_time - (elapsed_mins * 60))\n",
        "    return elapsed_mins, elapsed_secs"
      ],
      "execution_count": 28,
      "outputs": []
    },
    {
      "cell_type": "code",
      "metadata": {
        "colab": {
          "base_uri": "https://localhost:8080/"
        },
        "id": "PAOFyd1elRnc",
        "outputId": "21828a37-6907-423e-b5d3-fb54faf62e93"
      },
      "source": [
        "N_EPOCHS = 5\n",
        "\n",
        "#training the modelwith tqdm for progress bar\n",
        "\n",
        "best_valid_loss = float('inf')\n",
        "\n",
        "for epoch in range(N_EPOCHS):\n",
        "    \n",
        "    start_time = time.time()\n",
        "    \n",
        "    train_loss, train_acc = train(model, train_iterator, optimizer, criterion)\n",
        "    valid_loss, valid_acc = evaluate(model, valid_iterator, criterion)\n",
        "        \n",
        "    end_time = time.time()\n",
        "        \n",
        "    epoch_mins, epoch_secs = epoch_time(start_time, end_time)\n",
        "        \n",
        "    if valid_loss < best_valid_loss:\n",
        "        best_valid_loss = valid_loss\n",
        "        torch.save(model.state_dict(), 'tut6-model.pt')\n",
        "    \n",
        "    print(f'Epoch: {epoch+1:02} | Epoch Time: {epoch_mins}m {epoch_secs}s')\n",
        "    print(f'\\tTrain Loss: {train_loss:.3f} | Train Acc: {train_acc*100:.2f}%')\n",
        "    print(f'\\t Val. Loss: {valid_loss:.3f} |  Val. Acc: {valid_acc*100:.2f}%')"
      ],
      "execution_count": 29,
      "outputs": [
        {
          "output_type": "stream",
          "text": [
            "100%|██████████| 137/137 [14:32<00:00,  6.37s/batch]\n",
            "100%|██████████| 59/59 [02:56<00:00,  3.00s/batch]\n",
            "  0%|          | 0/137 [00:00<?, ?batch/s]"
          ],
          "name": "stderr"
        },
        {
          "output_type": "stream",
          "text": [
            "Epoch: 01 | Epoch Time: 17m 29s\n",
            "\tTrain Loss: 0.487 | Train Acc: 75.54%\n",
            "\t Val. Loss: 0.282 |  Val. Acc: 88.94%\n"
          ],
          "name": "stdout"
        },
        {
          "output_type": "stream",
          "text": [
            "100%|██████████| 137/137 [14:48<00:00,  6.49s/batch]\n",
            "100%|██████████| 59/59 [02:57<00:00,  3.01s/batch]\n",
            "  0%|          | 0/137 [00:00<?, ?batch/s]"
          ],
          "name": "stderr"
        },
        {
          "output_type": "stream",
          "text": [
            "Epoch: 02 | Epoch Time: 17m 46s\n",
            "\tTrain Loss: 0.285 | Train Acc: 88.58%\n",
            "\t Val. Loss: 0.222 |  Val. Acc: 91.29%\n"
          ],
          "name": "stdout"
        },
        {
          "output_type": "stream",
          "text": [
            "100%|██████████| 137/137 [14:48<00:00,  6.48s/batch]\n",
            "100%|██████████| 59/59 [02:57<00:00,  3.00s/batch]\n",
            "  0%|          | 0/137 [00:00<?, ?batch/s]"
          ],
          "name": "stderr"
        },
        {
          "output_type": "stream",
          "text": [
            "Epoch: 03 | Epoch Time: 17m 45s\n",
            "\tTrain Loss: 0.236 | Train Acc: 90.42%\n",
            "\t Val. Loss: 0.243 |  Val. Acc: 89.96%\n"
          ],
          "name": "stdout"
        },
        {
          "output_type": "stream",
          "text": [
            "100%|██████████| 137/137 [14:49<00:00,  6.49s/batch]\n",
            "100%|██████████| 59/59 [02:56<00:00,  3.00s/batch]\n",
            "  0%|          | 0/137 [00:00<?, ?batch/s]"
          ],
          "name": "stderr"
        },
        {
          "output_type": "stream",
          "text": [
            "Epoch: 04 | Epoch Time: 17m 46s\n",
            "\tTrain Loss: 0.206 | Train Acc: 91.92%\n",
            "\t Val. Loss: 0.215 |  Val. Acc: 91.90%\n"
          ],
          "name": "stdout"
        },
        {
          "output_type": "stream",
          "text": [
            "100%|██████████| 137/137 [14:47<00:00,  6.48s/batch]\n",
            "100%|██████████| 59/59 [02:56<00:00,  3.00s/batch]"
          ],
          "name": "stderr"
        },
        {
          "output_type": "stream",
          "text": [
            "Epoch: 05 | Epoch Time: 17m 44s\n",
            "\tTrain Loss: 0.184 | Train Acc: 92.99%\n",
            "\t Val. Loss: 0.223 |  Val. Acc: 91.40%\n"
          ],
          "name": "stdout"
        },
        {
          "output_type": "stream",
          "text": [
            "\n"
          ],
          "name": "stderr"
        }
      ]
    },
    {
      "cell_type": "code",
      "metadata": {
        "colab": {
          "base_uri": "https://localhost:8080/"
        },
        "id": "u7aSO8K-mwqp",
        "outputId": "81d505a8-5c30-47fc-bf20-b416b9230039"
      },
      "source": [
        "# load the best model and try it on some text\n",
        "\n",
        "model.load_state_dict(torch.load(\"tut6-model.pt\"))\n",
        "test_loss, test_acc = evaluate(model, test_iterator, criterion)\n",
        "print(f\"Test Loss: {test_loss:.3f} | Test Acc: {test_acc:.2f}\")"
      ],
      "execution_count": 31,
      "outputs": [
        {
          "output_type": "stream",
          "text": [
            "100%|██████████| 196/196 [09:30<00:00,  2.91s/batch]"
          ],
          "name": "stderr"
        },
        {
          "output_type": "stream",
          "text": [
            "Test Loss: 0.208 | Test Acc: 0.92\n"
          ],
          "name": "stdout"
        },
        {
          "output_type": "stream",
          "text": [
            "\n"
          ],
          "name": "stderr"
        }
      ]
    },
    {
      "cell_type": "code",
      "metadata": {
        "id": "66KWqr7Zmzds"
      },
      "source": [
        "def predict_sentiment(model, tokenizer, sentence):\n",
        "  model.eval()\n",
        "  tokens = tokenizer.tokenize(sentence)\n",
        "  tokens = tokens[:max_input_length-2]\n",
        "  indexed = [init_token_idx] + tokenizer.convert_tokens_to_ids(tokens) + [eos_token_idx]\n",
        "  tensor = torch.LongTensor(indexed).to(device)\n",
        "  tensor = tensor.unsqueeze(0)\n",
        "  prediction = torch.sigmoid(model(tensor))\n",
        "  review_type = \"\"\n",
        "  if prediction.item() > 0.6:\n",
        "    review_type = \"Positive Sentiment\"\n",
        "  elif prediction.item() < 0.4:\n",
        "    review_type = \"Negative sentiment\"\n",
        "  else:\n",
        "    review_type = \"Neutral sentiment\"\n",
        "  return (f\"The sentiment is: {review_type} | Prediction : {prediction.item()}\")"
      ],
      "execution_count": 41,
      "outputs": []
    },
    {
      "cell_type": "code",
      "metadata": {
        "colab": {
          "base_uri": "https://localhost:8080/",
          "height": 37
        },
        "id": "TDXCBhCQm2q5",
        "outputId": "9fe06b70-b6c6-4ce5-d28c-b76db8420bcc"
      },
      "source": [
        "#Given a relatively ambiguous review\n",
        "predict_sentiment(model, tokenizer, \"I hate that I love this product. It is awfully good but terribly expensive\")"
      ],
      "execution_count": 50,
      "outputs": [
        {
          "output_type": "execute_result",
          "data": {
            "application/vnd.google.colaboratory.intrinsic+json": {
              "type": "string"
            },
            "text/plain": [
              "'The sentiment is: Neutral sentiment | Prediction : 0.5239695310592651'"
            ]
          },
          "metadata": {
            "tags": []
          },
          "execution_count": 50
        }
      ]
    },
    {
      "cell_type": "code",
      "metadata": {
        "colab": {
          "base_uri": "https://localhost:8080/",
          "height": 37
        },
        "id": "lVaPs7kTHXgF",
        "outputId": "90fda51e-1e75-49b4-85b0-6136298481bc"
      },
      "source": [
        "#Given a positive review\n",
        "predict_sentiment(model, tokenizer, \"WOW! Amazing device! I can't believe I didn't get it sooner!\")"
      ],
      "execution_count": 51,
      "outputs": [
        {
          "output_type": "execute_result",
          "data": {
            "application/vnd.google.colaboratory.intrinsic+json": {
              "type": "string"
            },
            "text/plain": [
              "'The sentiment is: Positive Sentiment | Prediction : 0.8823106288909912'"
            ]
          },
          "metadata": {
            "tags": []
          },
          "execution_count": 51
        }
      ]
    },
    {
      "cell_type": "code",
      "metadata": {
        "colab": {
          "base_uri": "https://localhost:8080/",
          "height": 37
        },
        "id": "irIl85DYHkCY",
        "outputId": "90c30072-5490-4d13-d704-d7c907366990"
      },
      "source": [
        "# Given a positive review\n",
        "predict_sentiment(model, tokenizer, \"Such terrible acting and poor directing. Furthermore, the costumes didn't fit and the plot was non-existent.\")"
      ],
      "execution_count": 53,
      "outputs": [
        {
          "output_type": "execute_result",
          "data": {
            "application/vnd.google.colaboratory.intrinsic+json": {
              "type": "string"
            },
            "text/plain": [
              "'The sentiment is: Negative sentiment | Prediction : 0.011832216754555702'"
            ]
          },
          "metadata": {
            "tags": []
          },
          "execution_count": 53
        }
      ]
    }
  ]
}